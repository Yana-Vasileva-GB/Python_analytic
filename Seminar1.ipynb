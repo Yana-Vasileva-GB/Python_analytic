{
  "cells": [
    {
      "cell_type": "markdown",
      "metadata": {
        "id": "LiFuLXxjfg4j"
      },
      "source": [
        "##Task 1."
      ]
    },
    {
      "cell_type": "markdown",
      "metadata": {
        "id": "E_LIKDdrfwyF"
      },
      "source": [
        "###1.1. Соедините два словаря в один.\n",
        "###dict1 = {'One': 1, 'Two': 2, 'Three': 3}\n",
        "###dict2 = {'Four': 4, 'Five': 5, 'Six': 6}\n",
        "###1.2 Напишите функцию, которая на вход принимает два словаря и возвращает один объединенный словарь\n",
        "###Используйте аннотирование типов."
      ]
    },
    {
      "cell_type": "code",
      "execution_count": null,
      "metadata": {
        "id": "NrlCQoV5fvwt"
      },
      "outputs": [],
      "source": [
        "dict1 = {'One': 1, 'Two': 2, 'Three': 3}\n",
        "dict2 = {'Four': 4, 'Five': 5, 'Six': 6}"
      ]
    },
    {
      "cell_type": "code",
      "execution_count": null,
      "metadata": {
        "colab": {
          "base_uri": "https://localhost:8080/"
        },
        "id": "1oIB48hKhj1h",
        "outputId": "9ab3261d-8cfc-4fd3-8926-ec4a48d6a7fe"
      },
      "outputs": [
        {
          "data": {
            "text/plain": [
              "{'One': 1, 'Two': 2, 'Three': 3, 'Four': 4, 'Five': 5, 'Six': 6}"
            ]
          },
          "execution_count": 5,
          "metadata": {},
          "output_type": "execute_result"
        }
      ],
      "source": [
        "dict3 = dict1.copy()\n",
        "dict3.update(dict2)\n",
        "dict3"
      ]
    },
    {
      "cell_type": "code",
      "execution_count": null,
      "metadata": {
        "id": "yjgzDmF8maMd"
      },
      "outputs": [],
      "source": [
        "def merge_dict(dict1, dict2):\n",
        "  dict3 = dict1.copy()\n",
        "  dict3.update(dict2)\n",
        "  return dict3"
      ]
    },
    {
      "cell_type": "code",
      "execution_count": null,
      "metadata": {
        "colab": {
          "base_uri": "https://localhost:8080/"
        },
        "id": "YREMoqs2nN8r",
        "outputId": "2e3056c7-4bab-4f0f-9c23-3eee383b0537"
      },
      "outputs": [
        {
          "data": {
            "text/plain": [
              "{'One': 1, 'Two': 2, 'Three': 3, 'Four': 4, 'Five': 5, 'Six': 6}"
            ]
          },
          "execution_count": 10,
          "metadata": {},
          "output_type": "execute_result"
        }
      ],
      "source": [
        "merge_dict(dict1, dict2)"
      ]
    },
    {
      "cell_type": "markdown",
      "metadata": {
        "id": "U3P3TncV3O5u"
      },
      "source": [
        "##Task 2."
      ]
    },
    {
      "cell_type": "markdown",
      "metadata": {
        "id": "u_TiPIAr3aEn"
      },
      "source": [
        "###Напишите функцию, которая из двух списков, делает один словарь, где элементы из первого списка - ключи, а элементы из второго списка - значения.\n",
        "\n",
        "\n",
        "###Используйте аннотирование типов.\n",
        "\n",
        "###2.1 Используя цикл for\n",
        "###2.2 Используя dict comprehensions"
      ]
    },
    {
      "cell_type": "code",
      "execution_count": null,
      "metadata": {
        "id": "4WsqTwik3a8m"
      },
      "outputs": [],
      "source": [
        "keys = [1, 2, 3]\n",
        "values = [56, 32, 785]"
      ]
    },
    {
      "cell_type": "code",
      "execution_count": null,
      "metadata": {
        "id": "SAlvre1Q31of"
      },
      "outputs": [],
      "source": [
        "def func(keys, values):\n",
        "  my_dict = {}\n",
        "  for i in range(len(keys)):\n",
        "    my_dict[keys[i]] = values[i]\n",
        "  return my_dict"
      ]
    },
    {
      "cell_type": "code",
      "execution_count": null,
      "metadata": {
        "colab": {
          "base_uri": "https://localhost:8080/"
        },
        "id": "fANsiFA84W3c",
        "outputId": "12d48af8-dbaa-4a66-a5f3-42908aed28f4"
      },
      "outputs": [
        {
          "data": {
            "text/plain": [
              "{1: 56, 2: 32, 3: 785}"
            ]
          },
          "execution_count": 27,
          "metadata": {},
          "output_type": "execute_result"
        }
      ],
      "source": [
        "func(keys, values)"
      ]
    },
    {
      "cell_type": "code",
      "execution_count": null,
      "metadata": {
        "colab": {
          "base_uri": "https://localhost:8080/"
        },
        "id": "npjqWkTx7hmM",
        "outputId": "8b2df00d-ab59-421e-886e-af63fb67b5aa"
      },
      "outputs": [
        {
          "data": {
            "text/plain": [
              "{1: 56, 2: 32, 3: 785}"
            ]
          },
          "execution_count": 26,
          "metadata": {},
          "output_type": "execute_result"
        }
      ],
      "source": [
        "squares_dict = {keys[i]: values[i] for i in range(len(keys))}\n",
        "squares_dict"
      ]
    }
  ],
  "metadata": {
    "colab": {
      "provenance": []
    },
    "kernelspec": {
      "display_name": "Python 3",
      "name": "python3"
    },
    "language_info": {
      "name": "python",
      "version": "3.11.2"
    }
  },
  "nbformat": 4,
  "nbformat_minor": 0
}
