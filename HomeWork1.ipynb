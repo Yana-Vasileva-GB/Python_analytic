{
  "nbformat": 4,
  "nbformat_minor": 0,
  "metadata": {
    "colab": {
      "provenance": []
    },
    "kernelspec": {
      "name": "python3",
      "display_name": "Python 3"
    },
    "language_info": {
      "name": "python"
    }
  },
  "cells": [
    {
      "cell_type": "markdown",
      "source": [
        "##Task 1."
      ],
      "metadata": {
        "id": "X8CjRTtcGzrA"
      }
    },
    {
      "cell_type": "markdown",
      "source": [
        "###На складе лежат разные фрукты в разном количестве. Нужно написать функцию, которая на вход принимает любое количество названий фруктов и их количество, а возвращает общее количество фруктов на складе"
      ],
      "metadata": {
        "id": "lxwCWza5HYsi"
      }
    },
    {
      "cell_type": "code",
      "source": [
        "fruits = {'apple': 3, 'banan': 5, 'grape': 2}\n",
        "total = 0\n",
        "for i in fruits.values():\n",
        "  total+=i\n",
        "print(total)"
      ],
      "metadata": {
        "colab": {
          "base_uri": "https://localhost:8080/"
        },
        "id": "AwDreIxWH0t3",
        "outputId": "e4f41bd9-a4af-4cf1-d10c-3837818d2fba"
      },
      "execution_count": 18,
      "outputs": [
        {
          "output_type": "stream",
          "name": "stdout",
          "text": [
            "10\n"
          ]
        }
      ]
    },
    {
      "cell_type": "markdown",
      "source": [
        "##Task 2."
      ],
      "metadata": {
        "id": "yEH9Je1NHjlY"
      }
    },
    {
      "cell_type": "markdown",
      "source": [
        "###Дан список с затратами на рекламу. Но в данных есть ошибки, некоторые затраты имеют отрицательную величину. Удалите такие значения из списка и посчитайте суммарные затраты\n",
        "###[100, 125, -90, 345, 655, -1, 0, 200]\n",
        "###Используйте list comprehensions"
      ],
      "metadata": {
        "id": "M26ZSgLjHqGf"
      }
    },
    {
      "cell_type": "code",
      "source": [
        "spisok = [100, 125, -90, 345, 655, -1, 0, 200]"
      ],
      "metadata": {
        "id": "Y66xShG2Hx1R"
      },
      "execution_count": 19,
      "outputs": []
    },
    {
      "cell_type": "code",
      "source": [
        "new_spisok = [i for i in spisok if i>=0]\n",
        "print(f'Список без отрицательных значений - {new_spisok}')\n",
        "print(f'Сумма затрат - {sum(new_spisok)}')"
      ],
      "metadata": {
        "colab": {
          "base_uri": "https://localhost:8080/"
        },
        "id": "ZXgXcD3geiCJ",
        "outputId": "1059fee8-0424-410f-febe-0fc8e330e76b"
      },
      "execution_count": 45,
      "outputs": [
        {
          "output_type": "stream",
          "name": "stdout",
          "text": [
            "Список без отрицательных значений - [100, 125, 345, 655, 0, 200]\n",
            "Сумма затрат - 1425\n"
          ]
        }
      ]
    },
    {
      "cell_type": "code",
      "source": [
        "new_spisok = []\n",
        "for i in spisok:\n",
        "  if i>=0:\n",
        "    new_spisok.append(i)\n",
        "print(f'Список без отрицательных значений - {new_spisok}')\n",
        "total = 0\n",
        "for i in new_spisok:\n",
        "  total+=i\n",
        "print(f'Сумма затрат - {total}')\n"
      ],
      "metadata": {
        "colab": {
          "base_uri": "https://localhost:8080/"
        },
        "id": "vZSv5cd3b-JN",
        "outputId": "d8cdc15c-440c-4f60-b578-fc9d6b5fdcc5"
      },
      "execution_count": 34,
      "outputs": [
        {
          "output_type": "stream",
          "name": "stdout",
          "text": [
            "Список без отрицательных значений - [100, 125, 345, 655, 0, 200]\n",
            "Сумма затрат - 1425\n"
          ]
        }
      ]
    }
  ]
}